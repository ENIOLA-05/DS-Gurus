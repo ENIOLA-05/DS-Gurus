{
 "cells": [
  {
   "cell_type": "markdown",
   "id": "422fe7b6",
   "metadata": {},
   "source": [
    "### Python Basic Syntax"
   ]
  },
  {
   "cell_type": "code",
   "execution_count": 11,
   "id": "8dc5e916",
   "metadata": {},
   "outputs": [
    {
     "name": "stdout",
     "output_type": "stream",
     "text": [
      "Hello, World!\n"
     ]
    },
    {
     "data": {
      "text/plain": [
       "'\\nThis is a \\nmulti-line comment\\n\\n'"
      ]
     },
     "execution_count": 11,
     "metadata": {},
     "output_type": "execute_result"
    }
   ],
   "source": [
    "# Print Statement\n",
    "print(\"Hello, World!\") \n",
    "\n",
    "# Comments\n",
    "# This is a single-line comment\n",
    "\"\"\"\n",
    "This is a \n",
    "multi-line comment\n",
    "\n",
    "\"\"\""
   ]
  },
  {
   "cell_type": "code",
   "execution_count": 7,
   "id": "dfa95b88",
   "metadata": {},
   "outputs": [
    {
     "name": "stdout",
     "output_type": "stream",
     "text": [
      "9\n"
     ]
    }
   ],
   "source": [
    "t = 5+4\n",
    "print(t)"
   ]
  },
  {
   "cell_type": "code",
   "execution_count": 17,
   "id": "9db8e43f",
   "metadata": {},
   "outputs": [
    {
     "name": "stdout",
     "output_type": "stream",
     "text": [
      "Welcome to programming\n"
     ]
    }
   ],
   "source": [
    "# Practice Questions:\n",
    "# 1. Write a program to print \"Welcome to Python Programming\".\n",
    "print('Welcome to programming')\n",
    "# 2. Write comments explaining what each line of your program does.\n",
    "# \"Print\" is the function\n",
    "# The parenthesis holds the sting, and the quotation marks signify that it is a string"
   ]
  },
  {
   "cell_type": "markdown",
   "id": "71851fb3",
   "metadata": {},
   "source": [
    "### Python Variables/Constants"
   ]
  },
  {
   "cell_type": "code",
   "execution_count": null,
   "id": "30895749",
   "metadata": {},
   "outputs": [],
   "source": [
    "# Variables\n",
    "# Variables are used to store data that can be changed later. \n",
    "# In Python, you can assign a value to a variable using the assignment operator '='.\n",
    "\n",
    "# Example of a variable:\n",
    "x = 10\n",
    "print(\"Variable x:\", x)"
   ]
  },
  {
   "cell_type": "code",
   "execution_count": null,
   "id": "c787c13b",
   "metadata": {},
   "outputs": [],
   "source": [
    "# You can change the value of a variable by assigning a new value to it:\n",
    "x = 20\n",
    "print(\"Updated variable x:\", x)"
   ]
  },
  {
   "cell_type": "code",
   "execution_count": null,
   "id": "4e62897a",
   "metadata": {},
   "outputs": [],
   "source": [
    "# Constants\n",
    "# Constants are used to store data that should not change throughout the program. \n",
    "# By convention, constants are usually written in all uppercase letters.\n",
    "\n",
    "# Python does not have a built-in constant type, but you can use naming conventions to indicate that a variable should be treated as a constant.\n",
    "\n",
    "# Example of a constant:\n",
    "PI = 3.14159\n",
    "print(\"Constant PI:\", PI)"
   ]
  },
  {
   "cell_type": "code",
   "execution_count": null,
   "id": "24663d25",
   "metadata": {},
   "outputs": [],
   "source": [
    "# Although you can technically change the value of a constant, you should avoid doing so to prevent confusion and errors in your code.\n",
    "# Example (not recommended):\n",
    "PI = 3.14  # This is not recommended, as it breaks the constant convention.\n",
    "print(\"Updated constant PI (not recommended):\", PI)"
   ]
  },
  {
   "cell_type": "code",
   "execution_count": null,
   "id": "f3c71899",
   "metadata": {},
   "outputs": [],
   "source": [
    "# Practice Questions:\n",
    "# 1. Create a variable `name` and assign your name to it.\n",
    "# 2. Define a constant `SPEED_OF_LIGHT` and assign it the value `299792458`."
   ]
  },
  {
   "cell_type": "markdown",
   "id": "f8aa1226",
   "metadata": {},
   "source": [
    "### Assigning / Reassigning value to a variable"
   ]
  },
  {
   "cell_type": "code",
   "execution_count": 21,
   "id": "f371976c",
   "metadata": {},
   "outputs": [],
   "source": [
    "# Assigning a value to a variable\n",
    "age = 25\n",
    "\n",
    "# Reassigning a value to a variable\n",
    "age = 26"
   ]
  },
  {
   "cell_type": "code",
   "execution_count": 23,
   "id": "f22966b9",
   "metadata": {},
   "outputs": [
    {
     "name": "stdout",
     "output_type": "stream",
     "text": [
      "26\n"
     ]
    }
   ],
   "source": [
    "print(age)"
   ]
  },
  {
   "cell_type": "code",
   "execution_count": 27,
   "id": "4ecd1dde",
   "metadata": {},
   "outputs": [
    {
     "name": "stdout",
     "output_type": "stream",
     "text": [
      "15\n",
      "30\n"
     ]
    }
   ],
   "source": [
    "# Practice Questions:\n",
    "# 1. Assign the value 10 to a variable `a`, then reassign it to 15.\n",
    "a = 10\n",
    "a = 15\n",
    "print(a)\n",
    "# 2. Create a variable `b`, assign it the value 20, then change its value to 30.\n",
    "b = 20\n",
    "b = 30\n",
    "print(b)"
   ]
  },
  {
   "cell_type": "markdown",
   "id": "5bc5dc8e",
   "metadata": {},
   "source": [
    "### Python Arithmetic Operators"
   ]
  },
  {
   "cell_type": "code",
   "execution_count": 33,
   "id": "1943ab65",
   "metadata": {},
   "outputs": [],
   "source": [
    "a = 10\n",
    "b = 3"
   ]
  },
  {
   "cell_type": "code",
   "execution_count": 35,
   "id": "398b86da",
   "metadata": {},
   "outputs": [],
   "source": [
    "# Addition\n",
    "add = a + b  # 13"
   ]
  },
  {
   "cell_type": "code",
   "execution_count": 37,
   "id": "fb40d801",
   "metadata": {},
   "outputs": [
    {
     "name": "stdout",
     "output_type": "stream",
     "text": [
      "13\n"
     ]
    }
   ],
   "source": [
    "print(add)"
   ]
  },
  {
   "cell_type": "code",
   "execution_count": 39,
   "id": "46074fe7",
   "metadata": {},
   "outputs": [
    {
     "name": "stdout",
     "output_type": "stream",
     "text": [
      "addition of a & b = 13\n"
     ]
    }
   ],
   "source": [
    "print (\"addition of a & b =\", add)"
   ]
  },
  {
   "cell_type": "code",
   "execution_count": 51,
   "id": "b5ff4ae4",
   "metadata": {},
   "outputs": [
    {
     "data": {
      "text/plain": [
       "7"
      ]
     },
     "execution_count": 51,
     "metadata": {},
     "output_type": "execute_result"
    }
   ],
   "source": [
    "# Subtraction\n",
    "subtract = a - b  # 7\n",
    "subtract"
   ]
  },
  {
   "cell_type": "code",
   "execution_count": 53,
   "id": "75d8c764",
   "metadata": {},
   "outputs": [
    {
     "data": {
      "text/plain": [
       "30"
      ]
     },
     "execution_count": 53,
     "metadata": {},
     "output_type": "execute_result"
    }
   ],
   "source": [
    "# Multiplication\n",
    "multiply = a * b  # 30\n",
    "multiply"
   ]
  },
  {
   "cell_type": "code",
   "execution_count": 55,
   "id": "86624bee",
   "metadata": {},
   "outputs": [
    {
     "data": {
      "text/plain": [
       "3.3333333333333335"
      ]
     },
     "execution_count": 55,
     "metadata": {},
     "output_type": "execute_result"
    }
   ],
   "source": [
    "# Division\n",
    "divide = a / b  # 3.333...\n",
    "divide"
   ]
  },
  {
   "cell_type": "code",
   "execution_count": 57,
   "id": "10510dbc",
   "metadata": {},
   "outputs": [
    {
     "name": "stdout",
     "output_type": "stream",
     "text": [
      "Modulo: 1\n"
     ]
    }
   ],
   "source": [
    "# Modulo\n",
    "# The modulo operator (%) returns the remainder of the division of two numbers.\n",
    "# For example, 10 % 3 is 1 because 10 divided by 3 is 3 with a remainder of 1.\n",
    "\n",
    "a = 10\n",
    "b = 3\n",
    "modulo_result = a % b\n",
    "print(\"Modulo:\", modulo_result)  # Output: 1"
   ]
  },
  {
   "cell_type": "code",
   "execution_count": 59,
   "id": "90aeba27",
   "metadata": {},
   "outputs": [
    {
     "name": "stdout",
     "output_type": "stream",
     "text": [
      "Exponent: 8\n"
     ]
    }
   ],
   "source": [
    "# Exponent\n",
    "# The exponent operator (**) raises the first number to the power of the second number.\n",
    "# For example, 2 ** 3 is 8 because 2 raised to the power of 3 is 8.\n",
    "\n",
    "base = 2\n",
    "exponent = 3\n",
    "exponent_result = base ** exponent\n",
    "print(\"Exponent:\", exponent_result)  # Output: 8"
   ]
  },
  {
   "cell_type": "code",
   "execution_count": 61,
   "id": "014d345b",
   "metadata": {},
   "outputs": [
    {
     "name": "stdout",
     "output_type": "stream",
     "text": [
      "Floor Division: 3\n"
     ]
    }
   ],
   "source": [
    "# Floor Division\n",
    "# The floor division operator (//) divides two numbers and returns the largest integer less than or equal to the result.\n",
    "# For example, 10 // 3 is 3 because 10 divided by 3 is 3.333, and the floor of 3.333 is 3.\n",
    "\n",
    "floor_division_result = a // b\n",
    "print(\"Floor Division:\", floor_division_result)  # Output: 3"
   ]
  },
  {
   "cell_type": "code",
   "execution_count": 63,
   "id": "f6cf13bd",
   "metadata": {},
   "outputs": [
    {
     "name": "stdout",
     "output_type": "stream",
     "text": [
      "57 33 540 3.75\n"
     ]
    }
   ],
   "source": [
    "# Practice Questions:\n",
    "# 1. Perform addition, subtraction, multiplication, and division on two numbers.\n",
    "x = 45\n",
    "y = 12\n",
    "addition = x + y\n",
    "subtraction = x - y\n",
    "multiplication = x * y\n",
    "division = x / y\n",
    "print(addition, subtraction, multiplication, division)\n",
    "# 2. Find the modulus, exponent, and floor division of two numbers."
   ]
  },
  {
   "cell_type": "markdown",
   "id": "f0b6cc3b",
   "metadata": {},
   "source": [
    "### Python Comparison Operators"
   ]
  },
  {
   "cell_type": "code",
   "execution_count": 65,
   "id": "ac97d429",
   "metadata": {},
   "outputs": [],
   "source": [
    "a = 10\n",
    "b = 3"
   ]
  },
  {
   "cell_type": "code",
   "execution_count": 67,
   "id": "e8a8dba4",
   "metadata": {},
   "outputs": [],
   "source": [
    "# Equal\n",
    "equal = (a == b)  # False"
   ]
  },
  {
   "cell_type": "code",
   "execution_count": 69,
   "id": "bcf3b4f9",
   "metadata": {},
   "outputs": [
    {
     "data": {
      "text/plain": [
       "False"
      ]
     },
     "execution_count": 69,
     "metadata": {},
     "output_type": "execute_result"
    }
   ],
   "source": [
    "equal"
   ]
  },
  {
   "cell_type": "code",
   "execution_count": 71,
   "id": "34bdfa19",
   "metadata": {},
   "outputs": [],
   "source": [
    "# Not Equal\n",
    "not_equal = (a != b)  # True"
   ]
  },
  {
   "cell_type": "code",
   "execution_count": 72,
   "id": "53dac485",
   "metadata": {},
   "outputs": [],
   "source": [
    "# Greater than\n",
    "greater_than = (a > b)  # True"
   ]
  },
  {
   "cell_type": "code",
   "execution_count": 75,
   "id": "8d8cdabd",
   "metadata": {},
   "outputs": [],
   "source": [
    "# Less than\n",
    "less_than = (a < b)  # False"
   ]
  },
  {
   "cell_type": "code",
   "execution_count": 77,
   "id": "fe613b58",
   "metadata": {},
   "outputs": [],
   "source": [
    "# Greater than or equal to\n",
    "greater_than_equal = (a >= b)  # True"
   ]
  },
  {
   "cell_type": "code",
   "execution_count": 79,
   "id": "4ab4c9ff",
   "metadata": {},
   "outputs": [],
   "source": [
    "# Less than or equal to\n",
    "less_than_equal = (a <= b)  # False"
   ]
  },
  {
   "cell_type": "code",
   "execution_count": 87,
   "id": "5f02bc28",
   "metadata": {},
   "outputs": [
    {
     "name": "stdout",
     "output_type": "stream",
     "text": [
      "False True False True False True\n"
     ]
    }
   ],
   "source": [
    "# Practice Questions:\n",
    "# 1. Compare two numbers using all the comparison operators and print the results.\n",
    "c = 34\n",
    "z = 56\n",
    "equal = (c==z)\n",
    "notequal = (c != z)\n",
    "greaterthan = (c > z)\n",
    "lessthan = (c < z)\n",
    "greaterthanequal = (c >= z)\n",
    "lessthanequal = (c <= z)\n",
    "print(equal, notequal, greaterthan, lessthan, greaterthanequal, lessthanequal)\n",
    "# 2. Write a program that checks if a number is greater than or equal to 18."
   ]
  },
  {
   "cell_type": "markdown",
   "id": "56f982e3",
   "metadata": {},
   "source": [
    "### Python Data Types"
   ]
  },
  {
   "cell_type": "code",
   "execution_count": null,
   "id": "cbbee8c0",
   "metadata": {},
   "outputs": [],
   "source": [
    "# Integers\n",
    "# Integers are whole numbers without a decimal point.\n",
    "integer = 10\n",
    "print(\"Integer:\", integer)\n",
    "\n",
    "# Float\n",
    "# Floats are numbers that have a decimal point.\n",
    "floating_point = 10.5\n",
    "print(\"Float:\", floating_point)\n",
    "\n",
    "# String\n",
    "# Strings are sequences of characters enclosed in quotes.\n",
    "string = \"Hello\"\n",
    "print(\"String:\", string)\n",
    "\n",
    "# Boolean\n",
    "# Booleans represent one of two values: True or False.\n",
    "boolean = True\n",
    "print(\"Boolean:\", boolean)\n",
    "\n",
    "# List\n",
    "# Lists are ordered collections of items, which can be of different types. Lists are mutable, meaning you can change their content.\n",
    "my_list = [1, 2, 3, 4, 5]\n",
    "print(\"List:\", my_list)\n",
    "\n",
    "# Tuple\n",
    "# Tuples are ordered collections of items, similar to lists, but they are immutable, meaning you cannot change their content once created.\n",
    "my_tuple = (1, 2, 3, 4, 5)\n",
    "print(\"Tuple:\", my_tuple)\n",
    "\n",
    "# Dictionary\n",
    "# Dictionaries are collections of key-value pairs. Each key is unique and is used to access the corresponding value.\n",
    "my_dict = {\"name\": \"Alice\", \"age\": 25}\n",
    "print(\"Dictionary:\", my_dict)\n",
    "\n",
    "# Set\n",
    "# Sets are unordered collections of unique items. They are useful for storing items where duplication is not allowed.\n",
    "my_set = {1, 2, 3, 4, 5}\n",
    "print(\"Set:\", my_set)"
   ]
  },
  {
   "cell_type": "markdown",
   "id": "5351186f",
   "metadata": {},
   "source": [
    "### Python String"
   ]
  },
  {
   "cell_type": "code",
   "execution_count": null,
   "id": "1b355577",
   "metadata": {},
   "outputs": [],
   "source": [
    "# Single quotes\n",
    "single_quote_string = 'Hello'\n",
    "\n",
    "# Double quotes\n",
    "double_quote_string = \"World\"\n",
    "\n",
    "# Triple quotes\n",
    "triple_quote_string = '''Hello \n",
    "World'''"
   ]
  },
  {
   "cell_type": "code",
   "execution_count": 91,
   "id": "0829d105",
   "metadata": {},
   "outputs": [
    {
     "name": "stdout",
     "output_type": "stream",
     "text": [
      "Hello Hello Hello\n"
     ]
    }
   ],
   "source": [
    "# Practice Questions:\n",
    "# 1. Create a string using single, double, and triple quotes.\n",
    "single = 'Hello'\n",
    "double = \"Hello\"\n",
    "triple = '''Hello'''\n",
    "# 2. Print each string.\n",
    "print(single, double, triple)"
   ]
  },
  {
   "cell_type": "markdown",
   "id": "1b8355c7",
   "metadata": {},
   "source": [
    "### Python String Operations"
   ]
  },
  {
   "cell_type": "code",
   "execution_count": 93,
   "id": "bc49aed5",
   "metadata": {},
   "outputs": [],
   "source": [
    "string1 = \"Hello\"\n",
    "string2 = \"World\""
   ]
  },
  {
   "cell_type": "code",
   "execution_count": 97,
   "id": "86a121f5",
   "metadata": {},
   "outputs": [],
   "source": [
    "# Concatenation\n",
    "concat = string1 + \" \" + string2 + \" my foot\" + \"3\" # \"Hello World\""
   ]
  },
  {
   "cell_type": "code",
   "execution_count": 101,
   "id": "983f9bcc",
   "metadata": {},
   "outputs": [
    {
     "data": {
      "text/plain": [
       "'Hello World my foot3'"
      ]
     },
     "execution_count": 101,
     "metadata": {},
     "output_type": "execute_result"
    }
   ],
   "source": [
    "concat"
   ]
  },
  {
   "cell_type": "code",
   "execution_count": 105,
   "id": "58b5fc40",
   "metadata": {},
   "outputs": [],
   "source": [
    "# Repetition\n",
    "repeat = string1 * 3  # \"HelloHelloHello\""
   ]
  },
  {
   "cell_type": "code",
   "execution_count": 107,
   "id": "4d6544c6",
   "metadata": {},
   "outputs": [
    {
     "data": {
      "text/plain": [
       "'HelloHelloHello'"
      ]
     },
     "execution_count": 107,
     "metadata": {},
     "output_type": "execute_result"
    }
   ],
   "source": [
    "repeat"
   ]
  },
  {
   "cell_type": "code",
   "execution_count": 109,
   "id": "89232ec3",
   "metadata": {},
   "outputs": [
    {
     "data": {
      "text/plain": [
       "'three three three '"
      ]
     },
     "execution_count": 109,
     "metadata": {},
     "output_type": "execute_result"
    }
   ],
   "source": [
    "\"three \" *3"
   ]
  },
  {
   "cell_type": "code",
   "execution_count": 117,
   "id": "835ac533",
   "metadata": {},
   "outputs": [
    {
     "data": {
      "text/plain": [
       "'ell'"
      ]
     },
     "execution_count": 117,
     "metadata": {},
     "output_type": "execute_result"
    }
   ],
   "source": [
    "# Slicing\n",
    "slice = string1[1:4]  # \"ell\"\n",
    "slice"
   ]
  },
  {
   "cell_type": "code",
   "execution_count": 121,
   "id": "3700372b",
   "metadata": {},
   "outputs": [
    {
     "data": {
      "text/plain": [
       "5"
      ]
     },
     "execution_count": 121,
     "metadata": {},
     "output_type": "execute_result"
    }
   ],
   "source": [
    "# Length\n",
    "length = len(string1)  # 5\n",
    "length"
   ]
  },
  {
   "cell_type": "code",
   "execution_count": 129,
   "id": "524603f5",
   "metadata": {},
   "outputs": [
    {
     "name": "stdout",
     "output_type": "stream",
     "text": [
      "I love good  food\n",
      " lo\n",
      "6\n"
     ]
    }
   ],
   "source": [
    "# Practice Questions:\n",
    "# 1. Concatenate two strings.\n",
    "stringone = 'I love'\n",
    "stringtwo = ' food'\n",
    "concat2 = stringone + \" \" + \"good\" + \" \" + stringtwo\n",
    "print(concat2)\n",
    "# 2. Slice a string from the 2nd to the 4th character.\n",
    "slice2 = stringone[1:4]\n",
    "print(slice2)\n",
    "# 3. Find the length of a string.\n",
    "length2 = len(stringone)\n",
    "print(length2)"
   ]
  },
  {
   "cell_type": "markdown",
   "id": "61c2370b",
   "metadata": {},
   "source": [
    "### Type Conversion"
   ]
  },
  {
   "cell_type": "code",
   "execution_count": 131,
   "id": "6c9273c7",
   "metadata": {},
   "outputs": [],
   "source": [
    "# Integer to String\n",
    "num = 10\n",
    "num_str = str(num)  # \"10\""
   ]
  },
  {
   "cell_type": "code",
   "execution_count": 133,
   "id": "02787c64",
   "metadata": {},
   "outputs": [],
   "source": [
    "# String to Integer\n",
    "str_num = \"10\"\n",
    "num_int = int(str_num)  # 10"
   ]
  },
  {
   "cell_type": "code",
   "execution_count": 135,
   "id": "fb8e6580",
   "metadata": {},
   "outputs": [],
   "source": [
    "# Float to Integer\n",
    "float_num = 10.5\n",
    "int_num = int(float_num)  # 10"
   ]
  },
  {
   "cell_type": "code",
   "execution_count": 137,
   "id": "fecb2432",
   "metadata": {},
   "outputs": [],
   "source": [
    "# Integer to Float\n",
    "int_to_float = float(num)  # 10.0"
   ]
  },
  {
   "cell_type": "code",
   "execution_count": 145,
   "id": "1645da08",
   "metadata": {},
   "outputs": [
    {
     "ename": "TypeError",
     "evalue": "'int' object is not callable",
     "output_type": "error",
     "traceback": [
      "\u001b[1;31m---------------------------------------------------------------------------\u001b[0m",
      "\u001b[1;31mTypeError\u001b[0m                                 Traceback (most recent call last)",
      "Cell \u001b[1;32mIn[145], line 4\u001b[0m\n\u001b[0;32m      1\u001b[0m \u001b[38;5;66;03m# Practice Questions:\u001b[39;00m\n\u001b[0;32m      2\u001b[0m \u001b[38;5;66;03m# 1. Convert a float to an integer.\u001b[39;00m\n\u001b[0;32m      3\u001b[0m floatnum \u001b[38;5;241m=\u001b[39m \u001b[38;5;241m13.2\u001b[39m\n\u001b[1;32m----> 4\u001b[0m floatint \u001b[38;5;241m=\u001b[39m \u001b[38;5;28mint\u001b[39m(floatnum)\n\u001b[0;32m      5\u001b[0m \u001b[38;5;28mprint\u001b[39m(floatint)\n",
      "\u001b[1;31mTypeError\u001b[0m: 'int' object is not callable"
     ]
    }
   ],
   "source": [
    "# Practice Questions:\n",
    "# 1. Convert a float to an integer.\n",
    "floatnum = 13.2\n",
    "floatint = int(floatnum)\n",
    "print(floatint)\n",
    "# 2. Convert a string to an integer.\n",
    "string = \"\"\n",
    "# 3. Convert an integer to a string."
   ]
  },
  {
   "cell_type": "markdown",
   "id": "db1b2be5",
   "metadata": {},
   "source": [
    "### Boolean values"
   ]
  },
  {
   "cell_type": "code",
   "execution_count": null,
   "id": "11427467",
   "metadata": {},
   "outputs": [],
   "source": [
    "is_python_fun = True\n",
    "is_sky_green = False"
   ]
  },
  {
   "cell_type": "code",
   "execution_count": null,
   "id": "53e00ba2",
   "metadata": {},
   "outputs": [],
   "source": [
    "# Boolean expressions\n",
    "bool_expr1 = (10 > 5)  # True\n",
    "bool_expr2 = (10 < 5)  # False"
   ]
  },
  {
   "cell_type": "code",
   "execution_count": null,
   "id": "3fc80fb4",
   "metadata": {},
   "outputs": [],
   "source": [
    "# Practice Questions:\n",
    "# 1. Create two boolean variables, one True and one False.\n",
    "# 2. Write a program that prints the result of a boolean expression (e.g., 10 > 3)."
   ]
  }
 ],
 "metadata": {
  "kernelspec": {
   "display_name": "Python [conda env:base] *",
   "language": "python",
   "name": "conda-base-py"
  },
  "language_info": {
   "codemirror_mode": {
    "name": "ipython",
    "version": 3
   },
   "file_extension": ".py",
   "mimetype": "text/x-python",
   "name": "python",
   "nbconvert_exporter": "python",
   "pygments_lexer": "ipython3",
   "version": "3.12.7"
  }
 },
 "nbformat": 4,
 "nbformat_minor": 5
}
