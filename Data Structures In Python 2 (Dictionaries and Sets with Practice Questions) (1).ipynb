{
 "cells": [
  {
   "cell_type": "markdown",
   "id": "a2d9265c",
   "metadata": {},
   "source": [
    "# Data Structures in Python (Dictionaries and Sets)"
   ]
  },
  {
   "cell_type": "markdown",
   "id": "16811eea",
   "metadata": {},
   "source": [
    "## Dictionaries in Python\n",
    "\n",
    "- A dictionary is an unordered collection of key-value pairs.\n",
    "- Each key is unique and maps to a value.\n",
    "- Dictionaries are created using curly braces {} with key-value pairs separated by colons."
   ]
  },
  {
   "cell_type": "markdown",
   "id": "c72e197b",
   "metadata": {},
   "source": [
    "### Example of a dictionary"
   ]
  },
  {
   "cell_type": "code",
   "execution_count": 3,
   "id": "a51ca2ba",
   "metadata": {},
   "outputs": [
    {
     "name": "stdout",
     "output_type": "stream",
     "text": [
      "{'name': 'Alice', 'age': 25, 'city': 'New York'}\n"
     ]
    }
   ],
   "source": [
    "my_dict = {\"name\": \"Alice\", \"age\": 25, \"city\": \"New York\"}\n",
    "print(my_dict)"
   ]
  },
  {
   "cell_type": "code",
   "execution_count": 12,
   "id": "d2a10143-e8f9-4dec-9f75-22d9ce46a935",
   "metadata": {},
   "outputs": [
    {
     "name": "stdout",
     "output_type": "stream",
     "text": [
      "{'First_name': 'Zainab', 'Second_name': 'Eniola', 'Age': 18, 'Religion': 'Islam', 'Occupation': 'Engineer', 'Complexion': 'Light'}\n"
     ]
    }
   ],
   "source": [
    "dic = {'First_name': 'Zainab', 'Second_name':'Eniola', 'Age': 18, 'Religion': 'Islam', 'Occupation':'Engineer', 'Complexion':'Light' }\n",
    "print(dic)"
   ]
  },
  {
   "cell_type": "markdown",
   "id": "93d7f6b9",
   "metadata": {},
   "source": [
    "### Accessing Values\n",
    "- You can access the value associated with a key using square brackets []."
   ]
  },
  {
   "cell_type": "code",
   "execution_count": 15,
   "id": "127df150",
   "metadata": {},
   "outputs": [
    {
     "name": "stdout",
     "output_type": "stream",
     "text": [
      "Alice\n"
     ]
    }
   ],
   "source": [
    "print(my_dict[\"name\"])"
   ]
  },
  {
   "cell_type": "code",
   "execution_count": 5,
   "id": "3708b409-8568-45fd-a311-4c7baf27ebc1",
   "metadata": {},
   "outputs": [
    {
     "name": "stdout",
     "output_type": "stream",
     "text": [
      "Islam\n"
     ]
    }
   ],
   "source": [
    "print(dic['Religion'])"
   ]
  },
  {
   "cell_type": "markdown",
   "id": "93a3e2ce",
   "metadata": {},
   "source": [
    "### Adding or Updating Values\n",
    "- You can add a new key-value pair or update an existing one."
   ]
  },
  {
   "cell_type": "code",
   "execution_count": 5,
   "id": "db7a850a",
   "metadata": {},
   "outputs": [
    {
     "name": "stdout",
     "output_type": "stream",
     "text": [
      "{'name': 'Alice', 'age': 25, 'city': 'New York', 'email': 'alice@example.com'}\n"
     ]
    }
   ],
   "source": [
    "my_dict[\"email\"] = \"alice@example.com\"  # Adds a new key-value pair\n",
    "print(my_dict)"
   ]
  },
  {
   "cell_type": "code",
   "execution_count": 7,
   "id": "e39b1ee2",
   "metadata": {},
   "outputs": [
    {
     "name": "stdout",
     "output_type": "stream",
     "text": [
      "{'name': 'Alice', 'age': 26, 'city': 'New York', 'email': 'alice@example.com'}\n"
     ]
    }
   ],
   "source": [
    "my_dict[\"age\"] = 26  # Updates the value associated with the key \"age\"\n",
    "print(my_dict)"
   ]
  },
  {
   "cell_type": "code",
   "execution_count": 17,
   "id": "081d6479-ac61-48ee-8ef0-d12412e2b7b8",
   "metadata": {},
   "outputs": [
    {
     "name": "stdout",
     "output_type": "stream",
     "text": [
      "{'First_name': 'Zainab', 'Second_name': 'Eniola', 'Age': 17, 'Religion': 'Islam', 'Occupation': 'Student', 'Complexion': 'Dark'}\n"
     ]
    }
   ],
   "source": [
    "dic['Age'] = 17\n",
    "dic['Occupation'] = 'Student'\n",
    "dic['Complexion']= 'Dark'\n",
    "print(dic)"
   ]
  },
  {
   "cell_type": "code",
   "execution_count": 14,
   "id": "53e96af7-d83c-44c9-a86f-82872924213f",
   "metadata": {},
   "outputs": [
    {
     "name": "stdout",
     "output_type": "stream",
     "text": [
      "{'First_name': 'Zainab', 'Second_name': 'Eniola', 'Age': 18, 'Religion': 'Islam', 'Occupation': 'Engineer', 'Complexion': 'Light', 'Surname': 'Wahab'}\n"
     ]
    }
   ],
   "source": [
    "dic['Surname'] = 'Wahab'\n",
    "print(dic)"
   ]
  },
  {
   "cell_type": "markdown",
   "id": "1b566de6",
   "metadata": {},
   "source": [
    "### Removing Key-Value Pairs\n",
    "- You can remove a key-value pair using the del statement or the pop() method."
   ]
  },
  {
   "cell_type": "code",
   "execution_count": 23,
   "id": "7f93f107",
   "metadata": {},
   "outputs": [
    {
     "name": "stdout",
     "output_type": "stream",
     "text": [
      "{'name': 'Alice', 'age': 26, 'email': 'alice@example.com'}\n"
     ]
    }
   ],
   "source": [
    "del my_dict[\"city\"]\n",
    "print(my_dict)"
   ]
  },
  {
   "cell_type": "code",
   "execution_count": 25,
   "id": "35b0ba1f",
   "metadata": {},
   "outputs": [
    {
     "name": "stdout",
     "output_type": "stream",
     "text": [
      "{'name': 'Alice', 'email': 'alice@example.com'}\n",
      "Popped age: 26\n"
     ]
    }
   ],
   "source": [
    "age = my_dict.pop(\"age\")\n",
    "print(my_dict)\n",
    "print(\"Popped age:\", age)"
   ]
  },
  {
   "cell_type": "code",
   "execution_count": 16,
   "id": "d3b41f5d-1f0e-4b9c-b8be-c58f109129bc",
   "metadata": {},
   "outputs": [
    {
     "name": "stdout",
     "output_type": "stream",
     "text": [
      "{'First_name': 'Zainab', 'Second_name': 'Eniola', 'Age': 18, 'Religion': 'Islam', 'Occupation': 'Engineer', 'Surname': 'Wahab'}\n"
     ]
    }
   ],
   "source": [
    "del dic['Complexion']\n",
    "print(dic)"
   ]
  },
  {
   "cell_type": "code",
   "execution_count": 18,
   "id": "f48e16d8-062e-42dc-918b-ba1c384b496f",
   "metadata": {},
   "outputs": [
    {
     "name": "stdout",
     "output_type": "stream",
     "text": [
      "{'First_name': 'Zainab', 'Second_name': 'Eniola', 'Age': 18, 'Religion': 'Islam', 'Occupation': 'Engineer'}\n",
      "Popped Surname: Wahab\n"
     ]
    }
   ],
   "source": [
    "Surname = dic.pop('Surname')\n",
    "print(dic)\n",
    "print('Popped Surname:', Surname)"
   ]
  },
  {
   "cell_type": "markdown",
   "id": "b3070dfb",
   "metadata": {},
   "source": [
    "### Looping through Dictionaries\n",
    "- You can loop through keys, values, or key-value pairs using a for loop."
   ]
  },
  {
   "cell_type": "code",
   "execution_count": 31,
   "id": "1c2e2416",
   "metadata": {},
   "outputs": [
    {
     "name": "stdout",
     "output_type": "stream",
     "text": [
      "name Alice\n",
      "email alice@example.com\n"
     ]
    }
   ],
   "source": [
    "for key in my_dict:\n",
    "    print(key, my_dict[key])"
   ]
  },
  {
   "cell_type": "code",
   "execution_count": 33,
   "id": "abfa7e7d",
   "metadata": {},
   "outputs": [
    {
     "name": "stdout",
     "output_type": "stream",
     "text": [
      "name Alice\n",
      "email alice@example.com\n"
     ]
    }
   ],
   "source": [
    "for key, value in my_dict.items():\n",
    "    print(key, value)"
   ]
  },
  {
   "cell_type": "code",
   "execution_count": 37,
   "id": "f8a3c71a-46ba-4d44-beab-de48b96a26a6",
   "metadata": {},
   "outputs": [
    {
     "name": "stdout",
     "output_type": "stream",
     "text": [
      "First_name Zainab\n",
      "Second_name Eniola\n",
      "Age 17\n",
      "Religion Islam\n",
      "Occupation Student\n",
      "Surname Wahab\n"
     ]
    }
   ],
   "source": [
    "for key in dic:\n",
    "    print(key, dic[key])"
   ]
  },
  {
   "cell_type": "code",
   "execution_count": 41,
   "id": "2c6aeb11-f095-42a0-b309-15ae6b67006a",
   "metadata": {},
   "outputs": [
    {
     "name": "stdout",
     "output_type": "stream",
     "text": [
      "First_name Zainab\n",
      "Second_name Eniola\n",
      "Age 17\n",
      "Religion Islam\n",
      "Occupation Student\n",
      "Surname Wahab\n"
     ]
    }
   ],
   "source": [
    "for key, value in dic.items():\n",
    "    print(key,value)"
   ]
  },
  {
   "cell_type": "markdown",
   "id": "f85159b7",
   "metadata": {},
   "source": [
    "### Checking for Key Existence\n",
    "- Use the in keyword to check if a key exists in the dictionary."
   ]
  },
  {
   "cell_type": "code",
   "execution_count": 43,
   "id": "25922eff",
   "metadata": {},
   "outputs": [
    {
     "name": "stdout",
     "output_type": "stream",
     "text": [
      "True\n"
     ]
    }
   ],
   "source": [
    "print(\"name\" in my_dict)  # Output: True"
   ]
  },
  {
   "cell_type": "code",
   "execution_count": 45,
   "id": "0b8932a9-f2d8-4da6-9247-a53386cc1d85",
   "metadata": {},
   "outputs": [
    {
     "name": "stdout",
     "output_type": "stream",
     "text": [
      "True\n"
     ]
    }
   ],
   "source": [
    "print('First_name' in dic)"
   ]
  },
  {
   "cell_type": "markdown",
   "id": "73fc9993",
   "metadata": {},
   "source": [
    "### Dictionary Methods\n",
    "- There are several useful methods for dictionaries, such as keys(), values(), and items()."
   ]
  },
  {
   "cell_type": "code",
   "execution_count": 47,
   "id": "358f3b91",
   "metadata": {},
   "outputs": [
    {
     "name": "stdout",
     "output_type": "stream",
     "text": [
      "dict_keys(['name', 'email'])\n",
      "dict_values(['Alice', 'alice@example.com'])\n",
      "dict_items([('name', 'Alice'), ('email', 'alice@example.com')])\n"
     ]
    }
   ],
   "source": [
    "print(my_dict.keys())\n",
    "print(my_dict.values())\n",
    "print(my_dict.items())"
   ]
  },
  {
   "cell_type": "code",
   "execution_count": 34,
   "id": "036fd962",
   "metadata": {},
   "outputs": [
    {
     "name": "stdout",
     "output_type": "stream",
     "text": [
      "{'First_name': 'Zainab', 'Second_name': 'Eniola', 'Age': '17', 'Religion': 'Islam', 'Occupation': 'Engineer', 'email': 'zainabeniola0205@gmail.com'}\n",
      "{'Name': 'Zainab', 'Age': '19'}\n",
      "Name Zainab\n",
      "Age 19\n",
      "True\n"
     ]
    }
   ],
   "source": [
    "# Practice Questions:\n",
    "# 1. Create a dictionary with keys \"name\", \"age\", and \"city\". Add a key \"email\" and update the \"age\".\n",
    "newdic = {'Name': 'Zainab', 'Age':'19', 'City':'Oyo'}\n",
    "dic['email']= 'zainabeniola0205@gmail.com'\n",
    "dic['Age']= '17'\n",
    "print(dic)\n",
    "# 2. Remove the key \"city\" from the dictionary.\n",
    "del newdic['City']\n",
    "print(newdic)\n",
    "# 3. Loop through the dictionary and print each key-value pair.\n",
    "for key in newdic:\n",
    "    print(key, newdic[key])\n",
    "# 4. Check if the key \"name\" exists in the dictionary.\n",
    "print('Name' in newdic)"
   ]
  },
  {
   "cell_type": "markdown",
   "id": "7cbe3a60",
   "metadata": {},
   "source": [
    "## Sets in Python\n",
    "\n",
    "- A set is an unordered collection of unique elements.\n",
    "- Sets are created using curly braces {} or the set() function."
   ]
  },
  {
   "cell_type": "markdown",
   "id": "ba619586",
   "metadata": {},
   "source": [
    "### Example of a set"
   ]
  },
  {
   "cell_type": "code",
   "execution_count": null,
   "id": "100d6698",
   "metadata": {},
   "outputs": [],
   "source": [
    "my_set = {1, 2, 3, 4, 5}\n",
    "print(my_set)"
   ]
  },
  {
   "cell_type": "markdown",
   "id": "b055d62f",
   "metadata": {},
   "source": [
    "### Creating a set from a list (to remove duplicates)"
   ]
  },
  {
   "cell_type": "code",
   "execution_count": null,
   "id": "07f51492",
   "metadata": {},
   "outputs": [],
   "source": [
    "my_list = [1, 2, 2, 3, 4, 4, 5]\n",
    "unique_set = set(my_list)\n",
    "print(unique_set)"
   ]
  },
  {
   "cell_type": "markdown",
   "id": "ce26e5f6",
   "metadata": {},
   "source": [
    "### Adding and Removing Elements\n",
    "- You can add an element using the add() method and remove an element using the remove() method."
   ]
  },
  {
   "cell_type": "code",
   "execution_count": null,
   "id": "4cfca486",
   "metadata": {},
   "outputs": [],
   "source": [
    "my_set.add(6)\n",
    "print(my_set)\n",
    "\n",
    "my_set.remove(3)\n",
    "print(my_set)"
   ]
  },
  {
   "cell_type": "markdown",
   "id": "1bda5c55",
   "metadata": {},
   "source": [
    "### Set Operations\n",
    "- Sets support several mathematical operations such as union, intersection, difference, and symmetric difference."
   ]
  },
  {
   "cell_type": "markdown",
   "id": "676a4b2a",
   "metadata": {},
   "source": [
    "### Union: Elements present in either set"
   ]
  },
  {
   "cell_type": "code",
   "execution_count": null,
   "id": "e84f58e2",
   "metadata": {},
   "outputs": [],
   "source": [
    "set1 = {1, 2, 3}\n",
    "set2 = {3, 4, 5}\n",
    "union_set = set1.union(set2)\n",
    "print(\"Union:\", union_set)  # Output: {1, 2, 3, 4, 5}"
   ]
  },
  {
   "cell_type": "markdown",
   "id": "6be62d88",
   "metadata": {},
   "source": [
    "### Intersection: Elements present in both sets"
   ]
  },
  {
   "cell_type": "code",
   "execution_count": null,
   "id": "f4605090",
   "metadata": {},
   "outputs": [],
   "source": [
    "intersection_set = set1.intersection(set2)\n",
    "print(\"Intersection:\", intersection_set)  # Output: {3}"
   ]
  },
  {
   "cell_type": "markdown",
   "id": "032fa4bf",
   "metadata": {},
   "source": [
    "### Difference: Elements present in set1 but not in set2"
   ]
  },
  {
   "cell_type": "code",
   "execution_count": null,
   "id": "eee2ad56",
   "metadata": {},
   "outputs": [],
   "source": [
    "difference_set = set1.difference(set2)\n",
    "print(\"Difference:\", difference_set)  # Output: {1, 2}"
   ]
  },
  {
   "cell_type": "markdown",
   "id": "0491996f",
   "metadata": {},
   "source": [
    "### Symmetric Difference: Elements present in either set, but not both"
   ]
  },
  {
   "cell_type": "code",
   "execution_count": null,
   "id": "7834f800",
   "metadata": {},
   "outputs": [],
   "source": [
    "symmetric_difference_set = set1.symmetric_difference(set2)\n",
    "print(\"Symmetric Difference:\", symmetric_difference_set)  # Output: {1, 2, 4, 5}"
   ]
  },
  {
   "cell_type": "code",
   "execution_count": 50,
   "id": "3dbd26d8",
   "metadata": {},
   "outputs": [
    {
     "name": "stdout",
     "output_type": "stream",
     "text": [
      "{1, 2, 4, 5, 6}\n",
      "{1, 2, 3, 4, 5, 6}\n",
      "Union: {0, 1, 2, 3, 4, 5, 6, 7, 8, 9}\n",
      "Intersection: {3}\n",
      "Difference: {1, 5, 9, 7}\n",
      "Symmmetric_Difference {0, 1, 2, 4, 5, 6, 7, 8, 9}\n"
     ]
    }
   ],
   "source": [
    "# Practice Questions:\n",
    "# 1. Create a set with elements 1, 2, 3, 4, 5. Add the element 6 and remove the element 3.\n",
    "myset = {1, 2, 3, 4, 5}\n",
    "myset.add(6)\n",
    "myset.remove(3)\n",
    "print(myset)\n",
    "# 2. Convert a list with duplicate elements to a set to remove duplicates.\n",
    "listtoset = [1, 2, 3, 3, 4, 5, 6, 5]\n",
    "newset = set(listtoset)\n",
    "print(newset)\n",
    "# 3. Perform union, intersection, difference, and symmetric difference operations on two sets.\n",
    "#UNION OF SETS\n",
    "seta = {1, 3, 5, 7, 9}\n",
    "setb = {2, 4, 6, 8, 0, 3}\n",
    "setunion = seta.union(setb)\n",
    "print('Union:', setunion)\n",
    "\n",
    "#INTERSECTION OF SETS \n",
    "setintersection = seta.intersection(setb)\n",
    "print('Intersection:', setintersection)\n",
    "\n",
    "#DIFFERENCE OF SETS\n",
    "setdifference = seta.difference(setb)\n",
    "print('Difference:', setdifference)\n",
    "\n",
    "#SYMMETRIC DIFFERENCE\n",
    "symmetricdifference = seta.symmetric_difference(setb)\n",
    "print('Symmmetric_Difference', symmetricdifference)"
   ]
  },
  {
   "cell_type": "markdown",
   "id": "5bdff0ad",
   "metadata": {},
   "source": [
    "### Advanced Dictionary Operations"
   ]
  },
  {
   "cell_type": "markdown",
   "id": "2e8fba95",
   "metadata": {},
   "source": [
    "### 1. Merging Dictionaries\n",
    "- You can merge two dictionaries using the update() method or the ** unpacking operator."
   ]
  },
  {
   "cell_type": "code",
   "execution_count": 52,
   "id": "e18c5bf9",
   "metadata": {},
   "outputs": [
    {
     "name": "stdout",
     "output_type": "stream",
     "text": [
      "{'a': 1, 'b': 3, 'c': 4}\n"
     ]
    }
   ],
   "source": [
    "dict1 = {\"a\": 1, \"b\": 2}\n",
    "dict2 = {\"b\": 3, \"c\": 4}\n",
    "dict1.update(dict2)\n",
    "print(dict1)  # Output: {'a': 1, 'b': 3, 'c': 4}"
   ]
  },
  {
   "cell_type": "markdown",
   "id": "f2b37c80",
   "metadata": {},
   "source": [
    "### Using ** unpacking operator"
   ]
  },
  {
   "cell_type": "code",
   "execution_count": 56,
   "id": "fbd013e5",
   "metadata": {},
   "outputs": [
    {
     "name": "stdout",
     "output_type": "stream",
     "text": [
      "{'a': 1, 'b': 3, 'c': 4}\n"
     ]
    }
   ],
   "source": [
    "merged_dict = {**dict1, **dict2}\n",
    "print(merged_dict)  # Output: {'a': 1, 'b': 3, 'c': 4}"
   ]
  },
  {
   "cell_type": "markdown",
   "id": "6452256f",
   "metadata": {},
   "source": [
    "### 2. Dictionary Comprehension\n",
    "- Dictionary comprehensions provide a concise way to create dictionaries."
   ]
  },
  {
   "cell_type": "code",
   "execution_count": 58,
   "id": "1d698e37",
   "metadata": {},
   "outputs": [
    {
     "name": "stdout",
     "output_type": "stream",
     "text": [
      "{0: 0, 1: 1, 2: 4, 3: 9, 4: 16}\n"
     ]
    }
   ],
   "source": [
    "squares = {x: x**2 for x in range(5)}\n",
    "print(squares)  # Output: {0: 0, 1: 1, 2: 4, 3: 9, 4: 16}"
   ]
  },
  {
   "cell_type": "code",
   "execution_count": 70,
   "id": "89ac9c5a",
   "metadata": {},
   "outputs": [
    {
     "name": "stdout",
     "output_type": "stream",
     "text": [
      "{'a': 2, 'b': 4, 'c': 6, 'x': 1, 'y': 3, 'z': 5}\n",
      "{0: 0, 1: 1, 2: 4, 3: 9, 4: 16, 5: 25}\n"
     ]
    }
   ],
   "source": [
    "# Practice Questions:\n",
    "# 1. Merge two dictionaries and print the result.\n",
    "newdict1 = {'x':1,'y':3, 'z':5}\n",
    "newdict2 = {'a':2, 'b':4, 'c':6}\n",
    "newdict2.update(newdict1)\n",
    "print(newdict2)\n",
    "# 2. Create a dictionary comprehension that maps numbers from 1 to 5 to their squares.\n",
    "newsquares = {y: y**2 for y in range(6)}\n",
    "print(newsquares)"
   ]
  },
  {
   "cell_type": "markdown",
   "id": "b2ee17a1",
   "metadata": {},
   "source": [
    "### Advanced Set Operations"
   ]
  },
  {
   "cell_type": "markdown",
   "id": "c526a38d",
   "metadata": {},
   "source": [
    "### 1. Checking Subset and Superset\n",
    "- Use issubset() and issuperset() methods to check if one set is a subset or superset of another."
   ]
  },
  {
   "cell_type": "code",
   "execution_count": 72,
   "id": "76c5de8f",
   "metadata": {},
   "outputs": [
    {
     "name": "stdout",
     "output_type": "stream",
     "text": [
      "True\n",
      "True\n"
     ]
    }
   ],
   "source": [
    "set_a = {1, 2, 3}\n",
    "set_b = {1, 2, 3, 4, 5}\n",
    "print(set_a.issubset(set_b))  # Output: True\n",
    "print(set_b.issuperset(set_a))  # Output: True"
   ]
  },
  {
   "cell_type": "markdown",
   "id": "ac9a4227",
   "metadata": {},
   "source": [
    "### 2. Set Comprehension\n",
    "- Set comprehensions provide a concise way to create sets."
   ]
  },
  {
   "cell_type": "code",
   "execution_count": 84,
   "id": "58f8be8e",
   "metadata": {},
   "outputs": [
    {
     "name": "stdout",
     "output_type": "stream",
     "text": [
      "{0, 1, 64, 8, 27}\n"
     ]
    }
   ],
   "source": [
    "cubes = {x**3 for x in range(5)}\n",
    "print(cubes)  # Output: {0, 1, 8, 27, 64}"
   ]
  },
  {
   "cell_type": "code",
   "execution_count": 82,
   "id": "b01de777",
   "metadata": {},
   "outputs": [
    {
     "name": "stdout",
     "output_type": "stream",
     "text": [
      "True\n",
      "{0, 1, 64, 8, 27}\n"
     ]
    }
   ],
   "source": [
    "# Practice Questions:\n",
    "# 1. Check if a set {1, 2, 3} is a subset of {1, 2, 3, 4, 5}.\n",
    "setone = {1, 2, 3}\n",
    "settwo = {1, 2, 3, 4, 5}\n",
    "print(setone.issubset(settwo))\n",
    "# 2. Create a set comprehension that contains the cubes of numbers from 0 to 4.\n",
    "newcubes = {z**3 for z in range(5)}\n",
    "print(newcubes)"
   ]
  }
 ],
 "metadata": {
  "kernelspec": {
   "display_name": "Python [conda env:base] *",
   "language": "python",
   "name": "conda-base-py"
  },
  "language_info": {
   "codemirror_mode": {
    "name": "ipython",
    "version": 3
   },
   "file_extension": ".py",
   "mimetype": "text/x-python",
   "name": "python",
   "nbconvert_exporter": "python",
   "pygments_lexer": "ipython3",
   "version": "3.12.7"
  }
 },
 "nbformat": 4,
 "nbformat_minor": 5
}
