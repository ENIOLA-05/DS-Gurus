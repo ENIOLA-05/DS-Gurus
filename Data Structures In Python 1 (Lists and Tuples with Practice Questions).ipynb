{
 "cells": [
  {
   "cell_type": "markdown",
   "id": "0b9508ca",
   "metadata": {},
   "source": [
    "# Data Structures in Python\n",
    "Python provides several built-in data structures. They provide a way to store, retrieve, and manipulate data.\n",
    "1. List\n",
    "2. Tuple\n",
    "3. Dictionary\n",
    "4. Set"
   ]
  },
  {
   "cell_type": "markdown",
   "id": "1ee00e02",
   "metadata": {},
   "source": [
    "### Lists in Python\n",
    "- A list is an ordered collection of items that are mutable (can be changed).\n",
    "- Lists are created using square brackets []."
   ]
  },
  {
   "cell_type": "code",
   "execution_count": 9,
   "id": "5fea05ba",
   "metadata": {},
   "outputs": [
    {
     "name": "stdout",
     "output_type": "stream",
     "text": [
      "[1, 2, 3, 4, 5]\n"
     ]
    }
   ],
   "source": [
    "# Example of a list\n",
    "my_list = [1, 2, 3, 4, 5]\n",
    "print(my_list)"
   ]
  },
  {
   "cell_type": "code",
   "execution_count": 11,
   "id": "dc347fd5",
   "metadata": {},
   "outputs": [
    {
     "name": "stdout",
     "output_type": "stream",
     "text": [
      "[1, 'hello', 3.14, True]\n"
     ]
    }
   ],
   "source": [
    "# Lists can contain different types of elements\n",
    "mixed_list = [1, \"hello\", 3.14, True]\n",
    "print(mixed_list)"
   ]
  },
  {
   "cell_type": "code",
   "execution_count": 7,
   "id": "6ef9592e",
   "metadata": {},
   "outputs": [
    {
     "name": "stdout",
     "output_type": "stream",
     "text": [
      "['Pineapple', 'Mango', 'Orange']\n",
      "[234, 568, 29, 10, 'Cocacola', 'Cups', 'Micheal', False]\n"
     ]
    }
   ],
   "source": [
    "# Practice Questions:\n",
    "# 1. Create a list of your favorite fruits.\n",
    "favfruits = ['Pineapple', 'Mango', 'Orange']\n",
    "print(favfruits)\n",
    "# 2. Create a list that contains numbers, strings, and booleans.\n",
    "nustboo = [234, 568, 29, 10, 'Cocacola', 'Cups', 'Micheal', False]\n",
    "print(nustboo)"
   ]
  },
  {
   "cell_type": "markdown",
   "id": "95592046",
   "metadata": {},
   "source": [
    "#### How to Manipulate Lists"
   ]
  },
  {
   "cell_type": "markdown",
   "id": "a04e0eac",
   "metadata": {},
   "source": [
    "1. Accessing Elements\n",
    "- Elements in a list can be accessed using their index."
   ]
  },
  {
   "cell_type": "code",
   "execution_count": 13,
   "id": "8ff52edc",
   "metadata": {
    "jupyter": {
     "source_hidden": true
    }
   },
   "outputs": [
    {
     "name": "stdout",
     "output_type": "stream",
     "text": [
      "1\n",
      "5\n"
     ]
    }
   ],
   "source": [
    "print(my_list[0])  \n",
    "print(my_list[-1])"
   ]
  },
  {
   "cell_type": "code",
   "execution_count": 15,
   "id": "f0bce70f-ec05-4043-9ef8-5e5340209d8c",
   "metadata": {},
   "outputs": [
    {
     "name": "stdout",
     "output_type": "stream",
     "text": [
      "234\n",
      "Cocacola\n"
     ]
    }
   ],
   "source": [
    "print(nustboo[0])\n",
    "print(nustboo[-4])"
   ]
  },
  {
   "cell_type": "markdown",
   "id": "c2d44dc1",
   "metadata": {},
   "source": [
    "2. Adding Elements\n",
    "- You can add elements to a list using append(), insert(), or extend()."
   ]
  },
  {
   "cell_type": "code",
   "execution_count": 17,
   "id": "448c241c",
   "metadata": {},
   "outputs": [
    {
     "name": "stdout",
     "output_type": "stream",
     "text": [
      "[1, 2, 3, 4, 5, 6]\n"
     ]
    }
   ],
   "source": [
    "my_list.append(6)  # Adds 6 at the end\n",
    "print(my_list)"
   ]
  },
  {
   "cell_type": "code",
   "execution_count": 19,
   "id": "72a5357e",
   "metadata": {},
   "outputs": [
    {
     "name": "stdout",
     "output_type": "stream",
     "text": [
      "[1, 2, 2.5, 3, 4, 5, 6]\n"
     ]
    }
   ],
   "source": [
    "my_list.insert(2, 2.5)  # Inserts 2.5 at index 2\n",
    "print(my_list)"
   ]
  },
  {
   "cell_type": "code",
   "execution_count": 21,
   "id": "93427b32",
   "metadata": {},
   "outputs": [
    {
     "name": "stdout",
     "output_type": "stream",
     "text": [
      "[1, 2, 2.5, 3, 4, 5, 6, 7, 8]\n"
     ]
    }
   ],
   "source": [
    "my_list.extend([7, 8])  # Adds multiple elements at the end\n",
    "print(my_list)"
   ]
  },
  {
   "cell_type": "code",
   "execution_count": 23,
   "id": "43185e20-c4e5-4fb6-b680-6bbc40c01c5a",
   "metadata": {
    "jupyter": {
     "source_hidden": true
    }
   },
   "outputs": [
    {
     "name": "stdout",
     "output_type": "stream",
     "text": [
      "['Pineapple', 'Mango', 'Orange', 'Banana']\n"
     ]
    }
   ],
   "source": [
    "favfruits.append('Banana')\n",
    "print (favfruits)"
   ]
  },
  {
   "cell_type": "code",
   "execution_count": 25,
   "id": "a599f3c6-0e38-4d4e-a050-a9d055e5a267",
   "metadata": {
    "jupyter": {
     "source_hidden": true
    }
   },
   "outputs": [
    {
     "name": "stdout",
     "output_type": "stream",
     "text": [
      "['Pineapple', 'Mango', 'Orange', 'Dates', 'Banana']\n"
     ]
    }
   ],
   "source": [
    "favfruits.insert(3,'Dates')\n",
    "print(favfruits)"
   ]
  },
  {
   "cell_type": "code",
   "execution_count": 27,
   "id": "7986c95a-9148-4145-8d13-39adbf3d077f",
   "metadata": {},
   "outputs": [
    {
     "name": "stdout",
     "output_type": "stream",
     "text": [
      "[234, 568, 29, 10, 'Cocacola', 'Cups', 'Micheal', False, 'Tiger', 22]\n"
     ]
    }
   ],
   "source": [
    "nustboo.extend(['Tiger', 22])\n",
    "print(nustboo)"
   ]
  },
  {
   "cell_type": "markdown",
   "id": "fe592286",
   "metadata": {},
   "source": [
    "3. Removing Elements\n",
    "- You can remove elements using remove(), pop(), or del."
   ]
  },
  {
   "cell_type": "code",
   "execution_count": 29,
   "id": "b9b63a64",
   "metadata": {},
   "outputs": [
    {
     "name": "stdout",
     "output_type": "stream",
     "text": [
      "[1, 2, 3, 4, 5, 6, 7, 8]\n"
     ]
    }
   ],
   "source": [
    "my_list.remove(2.5)  # Removes the first occurrence of 2.5\n",
    "print(my_list)"
   ]
  },
  {
   "cell_type": "code",
   "execution_count": 31,
   "id": "c6c0ff6e",
   "metadata": {},
   "outputs": [
    {
     "name": "stdout",
     "output_type": "stream",
     "text": [
      "[1, 2, 3, 4, 5, 6, 7]\n"
     ]
    }
   ],
   "source": [
    "my_list.pop()  # Removes the last element\n",
    "print(my_list)"
   ]
  },
  {
   "cell_type": "code",
   "execution_count": 33,
   "id": "50c71fe1",
   "metadata": {
    "jupyter": {
     "source_hidden": true
    }
   },
   "outputs": [
    {
     "name": "stdout",
     "output_type": "stream",
     "text": [
      "[1, 3, 4, 5, 6, 7]\n"
     ]
    }
   ],
   "source": [
    "del my_list[1]  # Removes the element at index 1\n",
    "print(my_list)"
   ]
  },
  {
   "cell_type": "code",
   "execution_count": 35,
   "id": "ed1b7008-7f3f-4f7b-81ed-f2cf4d20364c",
   "metadata": {
    "jupyter": {
     "source_hidden": true
    }
   },
   "outputs": [
    {
     "name": "stdout",
     "output_type": "stream",
     "text": [
      "[234, 568, 29, 10, 'Cups', 'Micheal', False, 'Tiger', 22]\n"
     ]
    }
   ],
   "source": [
    "nustboo.remove('Cocacola')\n",
    "print(nustboo)"
   ]
  },
  {
   "cell_type": "code",
   "execution_count": 37,
   "id": "d478316f-ef47-4f35-a4d7-115afdd2b988",
   "metadata": {
    "jupyter": {
     "source_hidden": true
    }
   },
   "outputs": [
    {
     "name": "stdout",
     "output_type": "stream",
     "text": [
      "[234, 568, 29, 10, 'Cups', 'Micheal', False, 'Tiger']\n"
     ]
    }
   ],
   "source": [
    "nustboo.pop()\n",
    "print(nustboo)"
   ]
  },
  {
   "cell_type": "code",
   "execution_count": 41,
   "id": "f937763c-127a-497f-9fd3-b37813401323",
   "metadata": {},
   "outputs": [
    {
     "name": "stdout",
     "output_type": "stream",
     "text": [
      "[234, 568, 10, 'Cups', 'Micheal', False, 'Tiger']\n"
     ]
    }
   ],
   "source": [
    "del nustboo[2]\n",
    "print(nustboo)"
   ]
  },
  {
   "cell_type": "markdown",
   "id": "f7af5c08",
   "metadata": {},
   "source": [
    "4. Slicing\n",
    "- You can slice a list to get a sublist."
   ]
  },
  {
   "cell_type": "code",
   "execution_count": 43,
   "id": "332f579a",
   "metadata": {
    "jupyter": {
     "source_hidden": true
    }
   },
   "outputs": [
    {
     "name": "stdout",
     "output_type": "stream",
     "text": [
      "[3, 4, 5]\n"
     ]
    }
   ],
   "source": [
    "sublist = my_list[1:4]  # Elements from index 1 to 3\n",
    "print(sublist)"
   ]
  },
  {
   "cell_type": "code",
   "execution_count": 67,
   "id": "c7d34491-96d1-4d36-b7ef-a4ca3fba66d6",
   "metadata": {},
   "outputs": [],
   "source": [
    "slicelist = nustboo[1:2]\n",
    "# This code brought no result when run"
   ]
  },
  {
   "cell_type": "markdown",
   "id": "92286b94",
   "metadata": {},
   "source": [
    "5. List Comprehension\n",
    "- List comprehensions provide a concise way to create lists."
   ]
  },
  {
   "cell_type": "code",
   "execution_count": 69,
   "id": "059fea70",
   "metadata": {},
   "outputs": [
    {
     "name": "stdout",
     "output_type": "stream",
     "text": [
      "[0, 1, 4, 9, 16, 25, 36, 49, 64, 81]\n"
     ]
    }
   ],
   "source": [
    "squares = [x**2 for x in range(10)]\n",
    "print(squares)"
   ]
  },
  {
   "cell_type": "code",
   "execution_count": 71,
   "id": "6710a8f9",
   "metadata": {},
   "outputs": [
    {
     "data": {
      "text/plain": [
       "[0, 1, 4, 9, 10, 25, 36, 49, 64, 81]"
      ]
     },
     "execution_count": 71,
     "metadata": {},
     "output_type": "execute_result"
    }
   ],
   "source": [
    "squares[4] = 10\n",
    "squares"
   ]
  },
  {
   "cell_type": "code",
   "execution_count": 73,
   "id": "13068aab-b05d-4ee3-a528-bb86ce2a5f93",
   "metadata": {
    "jupyter": {
     "source_hidden": true
    }
   },
   "outputs": [
    {
     "name": "stdout",
     "output_type": "stream",
     "text": [
      "[0, 1, 8, 27, 64, 125, 216, 343, 512, 729]\n"
     ]
    }
   ],
   "source": [
    "cube = [x**3 for x in range(10)]\n",
    "print(cube)"
   ]
  },
  {
   "cell_type": "code",
   "execution_count": 77,
   "id": "d0160c36-0773-45e4-8103-d98bb5d3ee77",
   "metadata": {},
   "outputs": [
    {
     "name": "stdout",
     "output_type": "stream",
     "text": [
      "[0, 1, 25, 27, 64, 125, 216, 343, 512, 729]\n"
     ]
    }
   ],
   "source": [
    "cube[2] = 25\n",
    "print(cube)"
   ]
  },
  {
   "cell_type": "code",
   "execution_count": 79,
   "id": "1707c66c",
   "metadata": {},
   "outputs": [
    {
     "name": "stdout",
     "output_type": "stream",
     "text": [
      "[1, 2, 3, 4, 5, 6]\n",
      "[1, 3, 4, 5, 6]\n",
      "[4, 5, 6]\n",
      "[1, 8, 27, 64, 125, 216, 343, 512, 729, 1000]\n"
     ]
    }
   ],
   "source": [
    "# Practice Questions:\n",
    "# 1. Create a list of numbers from 1 to 5, then add the number 6 to the list.\n",
    "numbers = [1,2,3,4,5]\n",
    "numbers.append(6)\n",
    "print(numbers)\n",
    "\n",
    "# 2. Remove the second element from the list.\n",
    "del numbers[1]\n",
    "print (numbers)\n",
    "\n",
    "# 3. Slice the list to get the last three elements.\n",
    "last_three_elements = numbers[-3:]\n",
    "print (last_three_elements)\n",
    "\n",
    "# 4. Create a list of the cubes of numbers from 1 to 10 using list comprehension.\n",
    "cubes = [x**3 for x in range(1, 11)]\n",
    "print(cubes)"
   ]
  },
  {
   "cell_type": "markdown",
   "id": "25506a67",
   "metadata": {},
   "source": [
    "### Tuples in Python\n",
    "\n",
    "- A tuple is an ordered collection of items that are immutable (cannot be changed).\n",
    "- Tuples are created using parentheses ()."
   ]
  },
  {
   "cell_type": "code",
   "execution_count": 81,
   "id": "d6e28dc1",
   "metadata": {
    "jupyter": {
     "source_hidden": true
    }
   },
   "outputs": [
    {
     "name": "stdout",
     "output_type": "stream",
     "text": [
      "(1, 2, 3, 4, 5)\n"
     ]
    }
   ],
   "source": [
    "# Example of a tuple\n",
    "my_tuple = (1, 2, 3, 4, 5)\n",
    "print(my_tuple)"
   ]
  },
  {
   "cell_type": "code",
   "execution_count": null,
   "id": "1f897619",
   "metadata": {},
   "outputs": [],
   "source": [
    "# Tuples can contain different types of elements\n",
    "mixed_tuple = (1, \"hello\", 3.14, True)\n",
    "print(mixed_tuple)"
   ]
  },
  {
   "cell_type": "code",
   "execution_count": 83,
   "id": "ac3a62c0-b478-4912-811b-0bd47677319f",
   "metadata": {},
   "outputs": [
    {
     "name": "stdout",
     "output_type": "stream",
     "text": [
      "(17, 'dragon', 'sidney', 'australia', 45, 99, 'cat', True)\n"
     ]
    }
   ],
   "source": [
    "newtuple = (17, 'dragon', 'sidney', 'australia', 45, 99, 'cat', True)\n",
    "print(newtuple)"
   ]
  },
  {
   "cell_type": "markdown",
   "id": "4d0a6db2",
   "metadata": {},
   "source": [
    "Accessing Elements\n",
    "- Elements in a tuple can be accessed using their index."
   ]
  },
  {
   "cell_type": "code",
   "execution_count": 85,
   "id": "657ccd0c",
   "metadata": {},
   "outputs": [
    {
     "name": "stdout",
     "output_type": "stream",
     "text": [
      "1\n",
      "5\n"
     ]
    }
   ],
   "source": [
    "print(my_tuple[0])  # First element\n",
    "print(my_tuple[-1])  # Last element"
   ]
  },
  {
   "cell_type": "code",
   "execution_count": 87,
   "id": "261b0e27-50bd-4733-bdf7-58b6c8f6a76e",
   "metadata": {},
   "outputs": [
    {
     "name": "stdout",
     "output_type": "stream",
     "text": [
      "sidney\n"
     ]
    }
   ],
   "source": [
    "print(newtuple[2]) # Third element"
   ]
  },
  {
   "cell_type": "code",
   "execution_count": 99,
   "id": "18666e59",
   "metadata": {},
   "outputs": [
    {
     "name": "stdout",
     "output_type": "stream",
     "text": [
      "('skyblue', 'white', 'black', 'maroon', 'gold')\n",
      "skyblue\n",
      "gold\n"
     ]
    }
   ],
   "source": [
    "# Practice Questions:\n",
    "# 1. Create a tuple of your favorite colors.\n",
    "favcolours = ('skyblue', 'white', 'black', 'maroon', 'gold')\n",
    "print(favcolours)\n",
    "# 2. Try changing an element in the tuple and observe what happens.\n",
    "# 3. Access the first and last elements of the tuple.\n",
    "print(favcolours[0])\n",
    "print(favcolours[-1])"
   ]
  },
  {
   "cell_type": "markdown",
   "id": "566acf76",
   "metadata": {},
   "source": [
    "### Tuples vs Lists\n",
    "- Tuples are immutable, while lists are mutable.\n",
    "- Tuples use less memory and are faster than lists.\n",
    "- Tuples can be used as keys in dictionaries, while lists cannot."
   ]
  },
  {
   "cell_type": "markdown",
   "id": "42898dfb",
   "metadata": {},
   "source": [
    "### Advanced List Operations"
   ]
  },
  {
   "cell_type": "markdown",
   "id": "cb5afc50",
   "metadata": {},
   "source": [
    "1. Sorting\n",
    "- You can sort a list using the sort() method or the sorted() function."
   ]
  },
  {
   "cell_type": "code",
   "execution_count": 101,
   "id": "adf0ca69",
   "metadata": {},
   "outputs": [
    {
     "name": "stdout",
     "output_type": "stream",
     "text": [
      "[1, 1, 2, 3, 4, 5, 5, 6, 9]\n"
     ]
    }
   ],
   "source": [
    "my_list = [3, 1, 4, 1, 5, 9, 2, 6, 5]\n",
    "my_list.sort()  # Sorts the list in place\n",
    "print(my_list)"
   ]
  },
  {
   "cell_type": "code",
   "execution_count": 105,
   "id": "afa2bad9-5f2e-4a30-b546-d46b4a5b02c2",
   "metadata": {},
   "outputs": [
    {
     "name": "stdout",
     "output_type": "stream",
     "text": [
      "[1, 1, 2, 3, 4, 5, 5, 6, 9]\n"
     ]
    }
   ],
   "source": [
    "sorted_list = sorted(my_list)\n",
    "print(sorted_list)"
   ]
  },
  {
   "cell_type": "code",
   "execution_count": 103,
   "id": "a95bccb2",
   "metadata": {},
   "outputs": [
    {
     "name": "stdout",
     "output_type": "stream",
     "text": [
      "[9, 6, 5, 5, 4, 3, 2, 1, 1]\n"
     ]
    }
   ],
   "source": [
    "sorted_list = sorted(my_list, reverse=True)  # Returns a new sorted list\n",
    "print(sorted_list)"
   ]
  },
  {
   "cell_type": "markdown",
   "id": "dcc5a791",
   "metadata": {},
   "source": [
    "2. Reversing\n",
    "- You can reverse a list using the reverse() method or slicing."
   ]
  },
  {
   "cell_type": "code",
   "execution_count": 109,
   "id": "5dc75c45",
   "metadata": {},
   "outputs": [
    {
     "name": "stdout",
     "output_type": "stream",
     "text": [
      "[9, 6, 5, 5, 4, 3, 2, 1, 1]\n"
     ]
    }
   ],
   "source": [
    "my_list.reverse()  # Reverses the list in place\n",
    "print(my_list)"
   ]
  },
  {
   "cell_type": "code",
   "execution_count": 111,
   "id": "066a5bb0",
   "metadata": {},
   "outputs": [
    {
     "name": "stdout",
     "output_type": "stream",
     "text": [
      "[1, 1, 2, 3, 4, 5, 5, 6, 9]\n"
     ]
    }
   ],
   "source": [
    "reversed_list = my_list[::-1]  # Returns a new reversed list\n",
    "print(reversed_list)"
   ]
  },
  {
   "cell_type": "code",
   "execution_count": 139,
   "id": "38c16983",
   "metadata": {},
   "outputs": [
    {
     "name": "stdout",
     "output_type": "stream",
     "text": [
      "[1, 3, 4, 4, 5, 6, 6, 7, 9, 12, 13, 16]\n",
      "[16, 13, 12, 9, 7, 6, 6, 5, 4, 4, 3, 1]\n",
      "['caprison', 'indomie', 'milk', 'tea', 'wine']\n"
     ]
    }
   ],
   "source": [
    "# Practice Questions:\n",
    "import random\n",
    "# 1. Create a list of random numbers and sort it.\n",
    "rannum = [random.randint(1,20) for i in range(12)]\n",
    "rannum.sort()\n",
    "print(rannum)\n",
    "# 2. Reverse the sorted list and print the result.\n",
    "rannum_reversed = rannum[::-1]\n",
    "print(rannum_reversed)\n",
    "\n",
    "# 3. Create a list of words and sort them in alphabetical order.\n",
    "words = ['milk', 'wine', 'caprison', 'tea', 'indomie']\n",
    "words.sort()\n",
    "print(words)"
   ]
  },
  {
   "cell_type": "code",
   "execution_count": 141,
   "id": "9bd94abb-a23f-4de6-b593-a066e4ce9141",
   "metadata": {},
   "outputs": [
    {
     "name": "stdout",
     "output_type": "stream",
     "text": [
      "0\n",
      "1\n",
      "2\n",
      "3\n",
      "4\n",
      "5\n",
      "6\n",
      "7\n",
      "8\n",
      "9\n"
     ]
    }
   ],
   "source": [
    "x = list(range(10))\n",
    "for a in x:\n",
    "    print(a)"
   ]
  }
 ],
 "metadata": {
  "kernelspec": {
   "display_name": "Python [conda env:base] *",
   "language": "python",
   "name": "conda-base-py"
  },
  "language_info": {
   "codemirror_mode": {
    "name": "ipython",
    "version": 3
   },
   "file_extension": ".py",
   "mimetype": "text/x-python",
   "name": "python",
   "nbconvert_exporter": "python",
   "pygments_lexer": "ipython3",
   "version": "3.12.7"
  }
 },
 "nbformat": 4,
 "nbformat_minor": 5
}
